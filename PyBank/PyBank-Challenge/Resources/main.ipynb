{
 "cells": [
  {
   "cell_type": "code",
   "execution_count": null,
   "id": "a6365be5-01db-477b-85e4-814817ca5f6e",
   "metadata": {},
   "outputs": [],
   "source": [
    "## PyBank (Required)\n",
    "\n",
    "![Revenue](Images/revenue-per-lead.jpg)\n",
    "\n",
    "In this activity, you are tasked with creating a Python script for analyzing the financial records of your company.\\\n",
    "You will be provided with a financial dataset in this file: [budget_data.csv](PyBank/Resources/budget_data.csv).\\\n",
    "This dataset is composed of two columns, Date and Profit/Losses. (Thankfully, your company has rather lax standards for accounting, \\\n",
    "so the records are simple.)\n",
    "\n",
    "Your task is to create a Python script that analyzes the records to calculate each of the following:\n",
    "\n",
    "* The total number of months included in the dataset.\n",
    "\n",
    "* The net total amount of Profit/Losses over the entire period.\n",
    "\n",
    "* The average of the changes in Profit/Losses over the entire period.\n",
    "\n",
    "* The greatest increase in profits (date and amount) over the entire period.\n",
    "\n",
    "* The greatest decrease in losses (date and amount) over the entire period.\n",
    "\n",
    "Your resulting analysis should look similar to the following:\n",
    "\n",
    "  ```text\n",
    "  Financial Analysis\n",
    "  ----------------------------\n",
    "  Total Months: 86\n",
    "  Total: $38382578\n",
    "  Average  Change: $-2315.12\n",
    "  Greatest Increase in Profits: Feb-2012 ($1926159)\n",
    "  Greatest Decrease in Profits: Sep-2013 ($-2196167)\n",
    "  ```\n",
    "\n",
    "Your final script should print the analysis to the terminal and export a text file with the results."
   ]
  },
  {
   "cell_type": "code",
   "execution_count": 24,
   "id": "7b0bdcd7-e1c3-48d8-b8e7-4f1e11587e8e",
   "metadata": {
    "tags": []
   },
   "outputs": [
    {
     "name": "stdout",
     "output_type": "stream",
     "text": [
      "Financial Analysis\n",
      "----------------------------\n",
      "Total Months: 86\n",
      "Total: $38382578\n",
      "Average Change: $-2315.12\n",
      "Greatest Increase in Profits: Feb-2012 ($1926159)\n",
      "Greatest Decrease in Profits: Sep-2013 ($-2196167)\n"
     ]
    }
   ],
   "source": [
    "import csv\n",
    "csvpath = Path(\"/Users/DinoK1/Downloads/python-challenge/PyBank/Resources/budget_data.csv\")\n",
    "output_path = \"financial_analysis.txt\"\n",
    "\n",
    "\n",
    "total_months = 0\n",
    "net_total = 0\n",
    "previous_value = None\n",
    "changes = []\n",
    "dates = []\n",
    "\n",
    "# Read the csv file\n",
    "with open(csvpath , 'r') as file:\n",
    "    reader = csv.reader(file)\n",
    "    next(reader)  # Skip the header row\n",
    "\n",
    "    for row in reader:\n",
    "        date, profit_loss = row\n",
    "        profit_loss = int(profit_loss)\n",
    "        \n",
    "        # Increment total months and net total profit/loss\n",
    "        total_months += 1\n",
    "        net_total += profit_loss\n",
    "        \n",
    "        # Calculate monthly change in profit/loss\n",
    "        if previous_value is not None:\n",
    "            change = profit_loss - previous_value\n",
    "            changes.append(change)\n",
    "            dates.append(date)\n",
    "        \n",
    "        previous_value = profit_loss\n",
    "\n",
    "# Calculate required values\n",
    "average_change = sum(changes) / len(changes)\n",
    "max_increase = max(changes)\n",
    "max_decrease = min(changes)\n",
    "max_increase_date = dates[changes.index(max_increase)]\n",
    "max_decrease_date = dates[changes.index(max_decrease)]\n",
    "\n",
    "# Print results\n",
    "print(\"Financial Analysis\")\n",
    "print(\"----------------------------\")\n",
    "print(f\"Total Months: {total_months}\")\n",
    "print(f\"Total: ${net_total}\")\n",
    "print(f\"Average Change: ${average_change:.2f}\")\n",
    "print(f\"Greatest Increase in Profits: {max_increase_date} (${max_increase})\")\n",
    "print(f\"Greatest Decrease in Profits: {max_decrease_date} (${max_decrease})\")\n",
    "\n",
    "with open(output_path, 'w') as txtfile:\n",
    "    txtfile.write(\"Financial Analysis\\n\")\n",
    "    txtfile.write(\"-------------------\\n\")\n",
    "    txtfile.write(f\"Total Months: {total_months}\\n\")\n",
    "    txtfile.write(f\"Total: ${net_total}\\n\")\n",
    "    txtfile.write(f\"Average Change: ${average_change:.2f}\\n\")\n",
    "    txtfile.write(f\"Greatest Increase in Profits: {max_increase_date} (${max_increase})\\n\")\n",
    "    txtfile.write(f\"Greatest Decrease in Profits: {max_decrease_date} (${max_decrease})\\n\")"
   ]
  },
  {
   "cell_type": "code",
   "execution_count": null,
   "id": "0bd25b05-a39f-473b-8ffe-2ec99e09bba9",
   "metadata": {},
   "outputs": [],
   "source": []
  }
 ],
 "metadata": {
  "kernelspec": {
   "display_name": "Python 3 (ipykernel)",
   "language": "python",
   "name": "python3"
  },
  "language_info": {
   "codemirror_mode": {
    "name": "ipython",
    "version": 3
   },
   "file_extension": ".py",
   "mimetype": "text/x-python",
   "name": "python",
   "nbconvert_exporter": "python",
   "pygments_lexer": "ipython3",
   "version": "3.10.13"
  }
 },
 "nbformat": 4,
 "nbformat_minor": 5
}
